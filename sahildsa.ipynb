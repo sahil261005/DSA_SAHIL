{
 "cells": [
  {
   "cell_type": "markdown",
   "metadata": {},
   "source": [
    "                              **DSA PRACTICE NOTEBOOK **\n"
   ]
  },
  {
   "cell_type": "markdown",
   "metadata": {},
   "source": [
    "Given an integer array nums of size n, return the number with the value closest to 0 in nums. If there are multiple answers, return the number with the largest value.\n"
   ]
  },
  {
   "cell_type": "code",
   "execution_count": 2,
   "metadata": {},
   "outputs": [],
   "source": [
    "def findClosestNumber(self, nums):\n",
    "        closest = nums[0]\n",
    "        for x in nums:\n",
    "            if abs(x) < abs(closest):\n",
    "                closest = x\n",
    "        \n",
    "        if closest < 0 and abs(closest) in nums:\n",
    "            return abs(closest)\n",
    "        else:\n",
    "            return closest\n",
    "        "
   ]
  },
  {
   "cell_type": "markdown",
   "metadata": {},
   "source": [
    "for x in nums:\n",
    "if abs(x) < abs(closest):\n",
    "closest = x\n"
   ]
  },
  {
   "cell_type": "markdown",
   "metadata": {},
   "source": [
    "The abs function in Python is used to get the absolute value of a number. The absolute value of a number is its distance from zero on the number line, regardless of direction. This means it removes any negative sign from the number.\n"
   ]
  },
  {
   "cell_type": "markdown",
   "metadata": {},
   "source": [
    "The function iterates over each element x in the nums list.\n",
    "It compares the absolute value of x (abs(x)) with the absolute value of closest (abs(closest)).\n",
    "If abs(x) is smaller than abs(closest), then x is closer to zero than the current closest, so it updates closest to be x.\n"
   ]
  },
  {
   "cell_type": "markdown",
   "metadata": {},
   "source": [
    "After finding the closest number, the function checks if closest is negative and if its positive counterpart (abs(closest)) is present in the list.\n",
    "If both conditions are true, it means that there is a positive number with the same absolute value as the negative closest. In such cases, the function returns abs(closest) (the positive version).\n",
    "If the closest number is either positive or there is no corresponding positive number for a negative closest number, it simply returns the closest number found.\n"
   ]
  },
  {
   "cell_type": "markdown",
   "metadata": {},
   "source": [
    "You are given two strings word1 and word2. Merge the strings by adding letters in alternating order, starting with word1. If a string is longer than the other, append the additional letters onto the end of the merged string.\n",
    "\n",
    "Return the merged string.\n",
    "\n",
    "Example 1:\n",
    "\n",
    "Input: word1 = \"abc\", word2 = \"pqr\"\n",
    "Output: \"apbqcr\"\n",
    "\n",
    "Input: word1 = \"ab\", word2 = \"pqrs\"\n",
    "Output: \"apbqrs\"\n"
   ]
  },
  {
   "cell_type": "code",
   "execution_count": null,
   "metadata": {},
   "outputs": [],
   "source": [
    "class Solution:\n",
    "    def mergeAlternately(self, word1: str, word2: str) -> str:\n",
    "        A, B = len(word1), len(word2)\n",
    "        a, b = 0, 0\n",
    "        s = []\n",
    "\n",
    "        word = 1\n",
    "        while a < A and b < B:\n",
    "            if word == 1:\n",
    "                s.append(word1[a])\n",
    "                a += 1\n",
    "                word = 2\n",
    "            else:\n",
    "                s.append(word2[b])\n",
    "                b += 1\n",
    "                word = 1\n",
    "        \n",
    "        while a < A:\n",
    "            s.append(word1[a])\n",
    "            a += 1\n",
    "        \n",
    "        while b < B:\n",
    "            s.append(word2[b])\n",
    "            b += 1\n",
    "        \n",
    "        return ''.join(s)\n",
    "        # Time: O(A + B) - A is Length of word1, B is Length of word2\n",
    "        # Space: O(A + B) - A is Length of word1, B is Length of word2"
   ]
  },
  {
   "cell_type": "markdown",
   "metadata": {},
   "source": [
    "'': This is an empty string literal. It is used as the separator in the join() method. By using an empty string, the join() method concatenates all the elements in the list without adding any additional characters between them.\n",
    "\n",
    ".join(s): The join() method is a built-in Python method used to concatenate elements of a sequence (like a list) into a single string. It takes each element of the list s, converts it to a string if it is not already, and joins them together, inserting the specified separator (in this case, an empty string) between each pair of elements.\n"
   ]
  },
  {
   "cell_type": "markdown",
   "metadata": {},
   "source": [
    "When you call ''.join(s), Python will concatenate all elements of the list s into a single string:\n",
    "\n",
    "'a' + 'p' + 'b' + 'q' + 'c' + 'r' = 'apbqcr'\n"
   ]
  },
  {
   "cell_type": "markdown",
   "metadata": {},
   "source": [
    "given two strings s and t, return true if s is a subsequence of t, or false otherwise.\n",
    "\n",
    "A subsequence of a string is a new string that is formed from the original string by deleting some (can be none) of the characters without disturbing the relative positions of the remaining characters. (i.e., \"ace\" is a subsequence of \"abcde\" while \"aec\" is not).\n",
    "\n",
    "Input: s = \"abc\", t = \"ahbgdc\"\n",
    "Output: true\n"
   ]
  },
  {
   "cell_type": "code",
   "execution_count": 3,
   "metadata": {},
   "outputs": [],
   "source": [
    "class Solution:\n",
    "    def isSubsequence(self, s: str, t: str) -> bool:\n",
    "        S = len(s)\n",
    "        T = len(t)\n",
    "\n",
    "        if s == \"\":  # If s is an empty string, it is trivially a subsequence of any string, including t\n",
    "            return True\n",
    "        if S > T:  # If s is longer than t, s can't be a subsequence of t\n",
    "            return False\n",
    "\n",
    "        j = 0  # Pointer for s\n",
    "        for i in range(T):  # Loop over each character in t\n",
    "            if t[i] == s[j]:  # If the characters match\n",
    "                j += 1  # Move the pointer j to the next character in s\n",
    "                if j == S:  # If j reaches the length of s, all characters of s have been found in t\n",
    "                    return True\n",
    "\n",
    "        return False  # If we exit the loop without returning True, s is not a subsequence of t\n"
   ]
  },
  {
   "cell_type": "markdown",
   "metadata": {},
   "source": [
    "an empty string is considered a subsequence of any string, including another empty string.\n"
   ]
  },
  {
   "cell_type": "markdown",
   "metadata": {},
   "source": [
    "j is a pointer (index) initialized to 0. It is used to traverse through string s and keep track of which character in s we are currently looking to match in t.\n"
   ]
  },
  {
   "cell_type": "markdown",
   "metadata": {},
   "source": [
    "Loop Initialization: A for loop is used to iterate over each character in string t. The variable i serves as the index for string t.\n",
    "\n",
    "Character Match Check: Inside the loop, t[i] == s[j] checks if the current character in t (pointed to by i) matches the current character in s (pointed to by j).\n",
    "\n",
    "If they match, this means we've found the j-th character of s in t. So, we increment j to look for the next character in s.\n",
    "Subsequence Found Check: After incrementing j, the code checks if j == S. If this condition is True, it means we've successfully found all characters of s in t in the correct order, and hence, s is a subsequence of t. The function then returns True.\n"
   ]
  },
  {
   "cell_type": "markdown",
   "metadata": {},
   "source": [
    "If the loop completes without finding all characters of s in t in the correct order (i.e., j never reaches S), the function returns False.\n"
   ]
  },
  {
   "cell_type": "markdown",
   "metadata": {},
   "source": [
    "You are given an array prices where prices[i] is the price of a given stock on the ith day.\n",
    "\n",
    "You want to maximize your profit by choosing a single day to buy one stock and choosing a different day in the future to sell that stock.\n",
    "\n",
    "Return the maximum profit you can achieve from this transaction. If you cannot achieve any profit, return 0.\n",
    "\n",
    "Example 1:\n",
    "\n",
    "Input: prices = [7,1,5,3,6,4]\n",
    "Output: 5\n",
    "Explanation: Buy on day 2 (price = 1) and sell on day 5 (price = 6), profit = 6-1 = 5.\n",
    "Note that buying on day 2 and selling on day 1 is not allowed because you must buy before you sell.\n"
   ]
  },
  {
   "cell_type": "code",
   "execution_count": null,
   "metadata": {},
   "outputs": [],
   "source": [
    "from typing import List\n",
    "\n",
    "class Solution:\n",
    "    def maxProfit(self, prices: List[int]) -> int:\n",
    "        min_price = float('inf')  # Initialize the minimum price to a very high value\n",
    "        max_profit = 0  # Initialize the maximum profit to 0\n",
    "\n",
    "        for price in prices:\n",
    "            if price < min_price:  # If the current price is less than the minimum price found so far\n",
    "                min_price = price  # Update the minimum price\n",
    "\n",
    "            profit = price - min_price  # Calculate the profit by subtracting the minimum price from the current price\n",
    "\n",
    "            if profit > max_profit:  # If the calculated profit is greater than the maximum profit found so far\n",
    "                max_profit = profit  # Update the maximum profit\n",
    "\n",
    "        return max_profit  # Return the maximum profit found"
   ]
  },
  {
   "cell_type": "markdown",
   "metadata": {},
   "source": [
    "# product of array except self# ###IMP##\n"
   ]
  },
  {
   "cell_type": "markdown",
   "metadata": {},
   "source": [
    "\\*\\* an integer array nums, return an array answer such that answer[i] is equal to the product of all the elements of nums except nums[i].\n",
    "\n",
    "The product of any prefix or suffix of Givenums is guaranteed to fit in a 32-bit integer.\n",
    "\n",
    "You must write an algorithm that runs in O(n) time and without using the division operation.\n",
    "\\*\\*\n"
   ]
  },
  {
   "cell_type": "markdown",
   "metadata": {},
   "source": [
    "We'll use two passes to achieve this, one to collect the left product and another to collect the right product.\n",
    "\n",
    "Left Product Pass: Calculate the product of all elements to the left of each index.\n",
    "Right Product Pass: Calculate the product of all elements to the right of each index.\n",
    "\n",
    "Create an array answer of the same length as nums and initialize all values to 1.\n",
    "answer[i] will be the product of all elements to the left of i.\n"
   ]
  },
  {
   "cell_type": "code",
   "execution_count": null,
   "metadata": {},
   "outputs": [],
   "source": [
    "\n",
    "\n",
    "class Solution:\n",
    "    def productExceptSelf(self, nums: List[int]) -> List[int]:\n",
    "        res = [1] * len(nums)  # Initialize the result array with 1s\n",
    "\n",
    "        prefix = 1\n",
    "        # Calculate the prefix product for each element\n",
    "        for i in range(len(nums)):\n",
    "            res[i] = prefix\n",
    "            prefix *= nums[i]\n",
    "        \n",
    "        postfix = 1\n",
    "        # Calculate the postfix product for each element and multiply\n",
    "        for i in range(len(nums) - 1, -1, -1):\n",
    "            res[i] *= postfix\n",
    "            postfix *= nums[i]\n",
    "        \n",
    "        return res\n",
    "\n",
    "# Example usage\n",
    "solution = Solution()\n",
    "print(solution.productExceptSelf([1, 2, 3, 4]))  # Output: [24, 12, 8, 6]\n",
    "\n"
   ]
  },
  {
   "cell_type": "markdown",
   "metadata": {},
   "source": [
    "res = [1] \\* len(nums)\n",
    "This line initializes an array res of the same length as the input array nums, with all elements set to 1.\n"
   ]
  },
  {
   "cell_type": "markdown",
   "metadata": {},
   "source": [
    "###\n",
    "\n",
    "res[i] = prefix: At each step, the current value of prefix is stored in res[i]. This effectively means that res[i] holds the product of all elements to the left of i.\n",
    "prefix \\*= nums[i]: After storing prefix in res[i], prefix is updated by multiplying it by nums[i]. This updates prefix to be the cumulative product of elements from the start up to the current index i.\n",
    "\n",
    "###\n",
    "\n",
    "nums = [1, 2, 3, 4]:\n",
    "\n",
    "Initially, res = [1, 1, 1, 1], prefix = 1.\n",
    "Iteration 1 (i = 0): res[0] = prefix = 1, then prefix = prefix _ nums[0] = 1 _ 1 = 1.\n",
    "Iteration 2 (i = 1): res[1] = prefix = 1, then prefix = prefix _ nums[1] = 1 _ 2 = 2.\n",
    "Iteration 3 (i = 2): res[2] = prefix = 2, then prefix = prefix _ nums[2] = 2 _ 3 = 6.\n",
    "At the end of this loop, res = [1, 1, 2, 6]\n"
   ]
  },
  {
   "cell_type": "markdown",
   "metadata": {
    "slideshow": {
     "slide_type": "notes"
    }
   },
   "source": [
    "**#for postfix ##**\n",
    "\n",
    "res[i] _= postfix: At each step, the current value of res[i] is multiplied by postfix. Since res[i] already contains the product of all elements to the left of i (from the prefix loop), this multiplication incorporates the product of all elements to the right of i.\n",
    "postfix _= nums[i]: After updating res[i], postfix is updated by multiplying it by nums[i]. This updates postfix to be the cumulative product of elements from the end up to the current index i.\n",
    "\n",
    "nums = [1, 2, 3, 4]:\n",
    "\n",
    "Before the loop, res = [1, 1, 2, 6] and postfix = 1.\n",
    "Iteration 1 (i = 3): res[3] _= postfix = 6 _ 1 = 6, then postfix = postfix _ nums[3] = 1 _ 4 = 4.\n",
    "Iteration 2 (i = 2): res[2] _= postfix = 2 _ 4 = 8, then postfix = postfix _ nums[2] = 4 _ 3 = 12.\n",
    "Iteration 3 (i = 1): res[1] _= postfix = 1 _ 12 = 12, then postfix = postfix _ nums[1] = 12 _ 2 = 24.\n",
    "At the end of this loop, res = [24, 12, 8, 6].\n"
   ]
  },
  {
   "cell_type": "markdown",
   "metadata": {},
   "source": [
    "The solution uses two passes to build up the final result:\n",
    "The first pass computes the product of elements to the left of each index.\n",
    "**The second pass computes the product of elements to the right of each index, while simultaneously multiplying with the results from the first pass.**\n"
   ]
  },
  {
   "cell_type": "markdown",
   "metadata": {},
   "source": [
    "Given an integer array nums of size n, return the number with the value closest to 0 in nums. If there are multiple answers, return the number with the largest value.\n"
   ]
  },
  {
   "cell_type": "code",
   "execution_count": null,
   "metadata": {},
   "outputs": [],
   "source": [
    "class Solution:\n",
    "    def findClosestNumber(self, nums: List[int]) -> int:\n",
    "        closest = nums[0]\n",
    "        for x in nums:\n",
    "           if  abs(x) < abs(closest):\n",
    "              closest = x\n",
    "            \n",
    "        if closest < 0 and abs(closest) in nums: #If smallest value is negative and postive value present in array return \n",
    "          return abs                             #the positive value\n",
    "        else:\n",
    "            return closest\n",
    "\n"
   ]
  },
  {
   "cell_type": "markdown",
   "metadata": {},
   "source": [
    "## IF YOU HAVE BOTH THE POSITIVE NUMBER AND THE NEGATIVE NUMNBER AFTER ABS() OPERATION RETURN THE POSITIVE NUMBER\n",
    "\n",
    "## FOR EX: -1 AND 1 HAVE SAME ABS() VALUE SO RETURN 1\n"
   ]
  }
 ],
 "metadata": {
  "kernelspec": {
   "display_name": "Python 3",
   "language": "python",
   "name": "python3"
  },
  "language_info": {
   "codemirror_mode": {
    "name": "ipython",
    "version": 3
   },
   "file_extension": ".py",
   "mimetype": "text/x-python",
   "name": "python",
   "nbconvert_exporter": "python",
   "pygments_lexer": "ipython3",
   "version": "3.12.5"
  }
 },
 "nbformat": 4,
 "nbformat_minor": 2
}
